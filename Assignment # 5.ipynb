{
 "cells": [
  {
   "cell_type": "code",
   "execution_count": 5,
   "metadata": {},
   "outputs": [
    {
     "name": "stdout",
     "output_type": "stream",
     "text": [
      "Enter a positive number: 11\n",
      "The factorial of  11  : 39916800\n"
     ]
    }
   ],
   "source": [
    "def factorial(num):\n",
    "    fact = 1\n",
    "    while num > 0:\n",
    "        fact *= num\n",
    "        num -= 1\n",
    "    return fact\n",
    "\n",
    "number = -1\n",
    "while not(number > 0):\n",
    "    number = int(input(\"Enter a positive number: \"))\n",
    "    \n",
    "print(\"The factorial of \", number,\" :\",factorial(number))"
   ]
  },
  {
   "cell_type": "code",
   "execution_count": 12,
   "metadata": {},
   "outputs": [
    {
     "name": "stdout",
     "output_type": "stream",
     "text": [
      "The uppercase and lowercase characters in the string are: 4 ,  18\n"
     ]
    }
   ],
   "source": [
    "def countCase(str):\n",
    "    upperCount,lowerCount = 0,0\n",
    "    for c in str:\n",
    "        if c >= \"A\" and c <= \"Z\":\n",
    "            upperCount += 1\n",
    "        elif c >= \"a\" and c <= \"z\":\n",
    "            lowerCount += 1\n",
    "    return upperCount, lowerCount\n",
    "\n",
    "str = \"Some Random Python String\"\n",
    "counts = countCase(str)\n",
    "print(\"The uppercase and lowercasrnae characters in the string are:\", counts[0],\", \",counts[1])"
   ]
  },
  {
   "cell_type": "code",
   "execution_count": 17,
   "metadata": {},
   "outputs": [
    {
     "name": "stdout",
     "output_type": "stream",
     "text": [
      "The even numbers in list:  [35, 53, 67, 68, 98, 36, 37, 16, 27, 39]  are:  4\n"
     ]
    }
   ],
   "source": [
    "import random\n",
    "def countEven(randomList):\n",
    "    count = 0\n",
    "    for n in randomList:\n",
    "        if n % 2 == 0:\n",
    "            count += 1\n",
    "    return count\n",
    "\n",
    "randomList = random.sample(range(0,100),10)\n",
    "\n",
    "print(\"The even numbers in list: \",randomList,\" are: \",countEven(randomList))"
   ]
  },
  {
   "cell_type": "code",
   "execution_count": 31,
   "metadata": {},
   "outputs": [
    {
     "name": "stdout",
     "output_type": "stream",
     "text": [
      "Enter a word: Madam\n",
      "Madam  is a Palindrome\n"
     ]
    }
   ],
   "source": [
    "def checkPalindrome(str):\n",
    "    length = len(str)\n",
    "    check = True\n",
    "    for i in range(round(length / 2)):\n",
    "        if str[i] != str [length - i -1]:\n",
    "            check = False\n",
    "            break\n",
    "    return check\n",
    "\n",
    "str = input(\"Enter a word: \")\n",
    "\n",
    "if checkPalindrome(str.lower()):\n",
    "    print(str, \" is a Palindrome\")\n",
    "else:\n",
    "    print(str, \" is not a Palindrome\")"
   ]
  },
  {
   "cell_type": "code",
   "execution_count": 51,
   "metadata": {},
   "outputs": [
    {
     "name": "stdout",
     "output_type": "stream",
     "text": [
      "Enter a number: 17\n",
      "The given number:  17  is prime.\n"
     ]
    }
   ],
   "source": [
    "import math\n",
    "\n",
    "def checkPrime(num):\n",
    "    i = 2\n",
    "    check = True\n",
    "    while i <= math.sqrt(num):\n",
    "        if num % i == 0:\n",
    "            check = False\n",
    "            break\n",
    "        i += 1\n",
    "    return check\n",
    "\n",
    "number = int(input(\"Enter a number: \"))\n",
    "\n",
    "if checkPrime(number):\n",
    "    print(\"The given number: \", number, \" is prime.\")\n",
    "else:\n",
    "    print(\"The given number: \", number, \" is composite.\")"
   ]
  },
  {
   "cell_type": "code",
   "execution_count": 52,
   "metadata": {},
   "outputs": [
    {
     "name": "stdout",
     "output_type": "stream",
     "text": [
      "User shopping list\n",
      "item1\n",
      "item2\n",
      "item3\n",
      "item4\n",
      "item5\n"
     ]
    }
   ],
   "source": [
    "def shoppingList(*items):\n",
    "    print(\"User shopping list\")\n",
    "    for item in items:\n",
    "        print(item)\n",
    "\n",
    "shoppingList(\"item1\",\"item2\",\"item3\",\"item4\",\"item5\")"
   ]
  },
  {
   "cell_type": "code",
   "execution_count": null,
   "metadata": {},
   "outputs": [],
   "source": []
  }
 ],
 "metadata": {
  "kernelspec": {
   "display_name": "Python 3",
   "language": "python",
   "name": "python3"
  }
 },
 "nbformat": 4,
 "nbformat_minor": 2
}
