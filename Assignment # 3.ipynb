{
 "cells": [
  {
   "cell_type": "code",
   "execution_count": 1,
   "metadata": {},
   "outputs": [
    {
     "name": "stdout",
     "output_type": "stream",
     "text": [
      "Enter first number: 9\n",
      "Enter operation (+,-,*,/,^):+\n",
      "Enter second number: 3\n",
      "The sum of  9.0  and  3.0  is:  12.0\n"
     ]
    }
   ],
   "source": [
    "num1 = float(input(\"Enter first number: \"))\n",
    "op = input(\"Enter operation (+,-,*,/,^):\")\n",
    "num2 = float(input(\"Enter second number: \"))\n",
    "\n",
    "if(op == \"+\"):\n",
    "    print(\"The sum of \",num1,\" and \",num2,\" is: \",num1 + num2)\n",
    "elif(op == \"-\"):\n",
    "    print(\"The difference of \",num1,\" and \",num2,\" is: \",num1 - num2)\n",
    "elif(op == \"*\"):\n",
    "    print(\"The product of \",num1,\" and \",num2,\" is: \",num1 * num2)\n",
    "elif(op == \"/\"):\n",
    "    print(\"The quotient of \",num1,\" and \",num2,\" is: \",num1 / num2)\n",
    "elif(op == \"^\"):\n",
    "    print(\"The power of \",num1,\" to \",num2,\" is: \",num1 ** num2)\n",
    "else:\n",
    "    print(\"Invalid operator\")"
   ]
  },
  {
   "cell_type": "code",
   "execution_count": 6,
   "metadata": {},
   "outputs": [
    {
     "name": "stdout",
     "output_type": "stream",
     "text": [
      "The list:  ['123', 5, 68, 223, 'abc', '1x6', 568.3]  contains numbers:  [5, 68, 223, 568.3]\n"
     ]
    }
   ],
   "source": [
    "myList = [\"123\",5,68,223,\"abc\",\"1x6\",True, 568.3]\n",
    "numeric_list = []\n",
    "check = False\n",
    "for element in myList:\n",
    "    if(isinstance(element, int) or isinstance(element, float)):\n",
    "        numeric_list.append(element)\n",
    "        check = True\n",
    "if check == True:\n",
    "    print(\"The list: \",myList, \" contains numbers: \", numeric_list)"
   ]
  },
  {
   "cell_type": "code",
   "execution_count": 9,
   "metadata": {},
   "outputs": [
    {
     "name": "stdout",
     "output_type": "stream",
     "text": [
      "Dictionary before update:  {'key1': 123, 'key2': 'new value', 'key3': True}\n",
      "Dictionary after update:  {'key1': 123, 'key2': 'new value', 'key3': True, 'new_key': 'new value'}\n"
     ]
    }
   ],
   "source": [
    "new_dict = {\"key1\" : 123, \"key2\" : \"new value\", \"key3\" : True}\n",
    "print(\"Dictionary before update: \", new_dict)\n",
    "new_dict[\"new_key\"] = \"new value\"\n",
    "print(\"Dictionary after update: \", new_dict)"
   ]
  },
  {
   "cell_type": "code",
   "execution_count": 13,
   "metadata": {},
   "outputs": [
    {
     "name": "stdout",
     "output_type": "stream",
     "text": [
      "The sum of numeric values in Dictionary:  {'0': 56, '1': 'abc', '2': 'xyz', '3': 98, '4': 55}  is:  209\n"
     ]
    }
   ],
   "source": [
    "myDict = {\"0\" : 56,\"1\" : \"abc\", \"2\" : \"xyz\", \"3\" : 98, \"4\" : 55}\n",
    "sum = 0 ;\n",
    "for element in myDict.values():\n",
    "    if(isinstance(element, int) or isinstance(element, float)):\n",
    "        sum += element\n",
    "print(\"The sum of numeric values in Dictionary: \",myDict,\" is: \",sum)"
   ]
  },
  {
   "cell_type": "code",
   "execution_count": 33,
   "metadata": {},
   "outputs": [
    {
     "name": "stdout",
     "output_type": "stream",
     "text": [
      "The duplicate items in list:  ['a', 'abc', 'a', 12, 65, 98, 98, 'a', 'abc', 'xyz', '98', 'c'] are:  ['a', 98, 'abc']\n"
     ]
    }
   ],
   "source": [
    "myList = [\"a\",\"abc\",\"a\",12,65,98,98,\"a\",\"abc\",\"xyz\",\"98\",\"c\"]\n",
    "duplicates = []\n",
    "tempDict = {}\n",
    "for element in myList:\n",
    "    if element not in tempDict:\n",
    "        tempDict[element] = 1\n",
    "    else:\n",
    "        if tempDict[element] == 1:\n",
    "            duplicates.append(element)\n",
    "            tempDict[element] += 1\n",
    "\n",
    "print(\"The duplicate items in list: \", myList, \"are: \", duplicates)"
   ]
  },
  {
   "cell_type": "code",
   "execution_count": 35,
   "metadata": {},
   "outputs": [
    {
     "name": "stdout",
     "output_type": "stream",
     "text": [
      "Enter a key to check: 0\n",
      "0  exists in dictionary:  {'0': 56, '1': 'abc', '2': 'xyz', '3': 98, '4': 55}\n"
     ]
    }
   ],
   "source": [
    "myDict = {\"0\" : 56,\"1\" : \"abc\", \"2\" : \"xyz\", \"3\" : 98, \"4\" : 55}\n",
    "userKey = input(\"Enter a key to check: \")\n",
    "check = False\n",
    "for key in myDict.keys():\n",
    "    if userKey == key:\n",
    "        check = True\n",
    "        break\n",
    "if check == False:\n",
    "    print(userKey, \" doesn't exist in dictionary: \", myDict)\n",
    "else:\n",
    "    print(userKey, \" exists in dictionary: \", myDict)"
   ]
  },
  {
   "cell_type": "code",
   "execution_count": null,
   "metadata": {},
   "outputs": [],
   "source": []
  }
 ],
 "metadata": {
  "kernelspec": {
   "display_name": "Python 3",
   "language": "python",
   "name": "python3"
  },
  "language_info": {
   "codemirror_mode": {
    "name": "ipython",
    "version": 3
   },
   "file_extension": ".py",
   "mimetype": "text/x-python",
   "name": "python",
   "nbconvert_exporter": "python",
   "pygments_lexer": "ipython3",
   "version": "3.7.4"
  }
 },
 "nbformat": 4,
 "nbformat_minor": 2
}
