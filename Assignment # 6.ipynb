{
 "cells": [
  {
   "cell_type": "code",
   "execution_count": 2,
   "metadata": {},
   "outputs": [
    {
     "name": "stdout",
     "output_type": "stream",
     "text": [
      "Define Object Oriented Programming Language?\n",
      "\n",
      "Object-oriented programming (OOP) refers to a type of computer programming (software design) in which programmers define not only the data type of a data structure, but also the types of operations (functions) that can be applied to the data structure.\n"
     ]
    }
   ],
   "source": [
    "print(\"Define Object Oriented Programming Language?\")\n",
    "print(\"\\nObject-oriented programming (OOP) refers to a type of computer programming (software design) in which programmers define not only the data type of a data structure, but also the types of operations (functions) that can be applied to the data structure.\")"
   ]
  },
  {
   "cell_type": "code",
   "execution_count": 6,
   "metadata": {},
   "outputs": [
    {
     "name": "stdout",
     "output_type": "stream",
     "text": [
      "List down the Benefits of OOP?\n",
      "\n",
      "Advantages of OOP:\n",
      "\n",
      "1. It provides a clear modular structure for programs which makes it good for defining abstract datatypes in which implementation details are hidden.\n",
      "2. Objects can also be reused within an across applications. The reuse of software also lowers the cost of development. More effort is put into the object-oriented analysis and design, which lowers the overall cost of development.\n",
      "3. It makes software easier to maintain. Since the design is modular, part of the system can be updated in case of issues without a need to make large-scale changes.\n",
      "4. Reuse also enables faster development. Object-oriented programming languages come with rich libraries of objects, and code developed during projects is also reusable in future projects.\n",
      "5. It provides a good framework for code libraries where the supplied software components can be easily adapted and modified by the programmer. This is particularly useful for developing graphical user interfaces.\n",
      "6. Better Productivity as OOP techniques enforce rules on a programmer that, in the long run, help her get more work done; finished programs work better, have more features and are easier to read and maintain. OOP programmers take new and existing software objects and \"stitch\" them together to make new programs. Because object libraries contain many useful functions, software developers don't have to reinvent the wheel as often; more of their time goes into making the new program.\n"
     ]
    }
   ],
   "source": [
    "print(\"List down the Benefits of OOP?\")\n",
    "print(\"\\n\"+\"\"\"Advantages of OOP:\n",
    "\n",
    "1. It provides a clear modular structure for programs which makes it good for defining abstract datatypes in which implementation details are hidden.\n",
    "2. Objects can also be reused within an across applications. The reuse of software also lowers the cost of development. More effort is put into the object-oriented analysis and design, which lowers the overall cost of development.\n",
    "3. It makes software easier to maintain. Since the design is modular, part of the system can be updated in case of issues without a need to make large-scale changes.\n",
    "4. Reuse also enables faster development. Object-oriented programming languages come with rich libraries of objects, and code developed during projects is also reusable in future projects.\n",
    "5. It provides a good framework for code libraries where the supplied software components can be easily adapted and modified by the programmer. This is particularly useful for developing graphical user interfaces.\n",
    "6. Better Productivity as OOP techniques enforce rules on a programmer that, in the long run, help her get more work done; finished programs work better, have more features and are easier to read and maintain. OOP programmers take new and existing software objects and \"stitch\" them together to make new programs. Because object libraries contain many useful functions, software developers don't have to reinvent the wheel as often; more of their time goes into making the new program.\"\"\")"
   ]
  },
  {
   "cell_type": "code",
   "execution_count": 9,
   "metadata": {},
   "outputs": [
    {
     "name": "stdout",
     "output_type": "stream",
     "text": [
      "Define the following terms:\n",
      "\n",
      "1. Class\n",
      "A class is a code template for creating objects. Objects have member variables and have behaviour associated with them. In python a class is created by the keyword class . An object is created using the constructor of the class. This object will then be called the instance of the class\n",
      "\n",
      "2. Object\n",
      "Object is an instance of the class. Objects are created by calling the constructor of class and referencing it with an identifier.\n",
      "Object has attributes and behaviors.\n",
      "\n",
      "3. Attribute\n",
      "A class by itself is of no use unless there is some functionality associated with it. Functionalities are defined by setting attributes, which act as containers for data and functions related to those attributes.\n",
      "\n",
      "4. Behavior\n",
      "Behavior is called method. Once there are attributes that “belong” to the class, you can define functions that will access the class attribute. These functions are called methods. When you define methods, you will need to always provide the first argument to the method with a self keyword.\n"
     ]
    }
   ],
   "source": [
    "print(\"Define the following terms:\\n\\n1. Class\")\n",
    "print(\"A class is a code template for creating objects. Objects have member variables and have behaviour associated with them. In python a class is created by the keyword class . An object is created using the constructor of the class. This object will then be called the instance of the class\")\n",
    "print(\"\\n2. Object\\nObject is an instance of the class. Objects are created by calling the constructor of class and referencing it with an identifier.\\nObject has attributes and behaviors.\")\n",
    "print(\"\\n3. Attribute\\nA class by itself is of no use unless there is some functionality associated with it. Functionalities are defined by setting attributes, which act as containers for data and functions related to those attributes.\")\n",
    "print(\"\\n4. Behavior\\nBehavior is called method. Once there are attributes that “belong” to the class, you can define functions that will access the class attribute. These functions are called methods. When you define methods, you will need to always provide the first argument to the method with a self keyword.\")"
   ]
  },
  {
   "cell_type": "code",
   "execution_count": 22,
   "metadata": {},
   "outputs": [
    {
     "name": "stdout",
     "output_type": "stream",
     "text": [
      "Car:  1\n",
      "Name:  Car name: 1 Serial:  44939 Color:  Car color: 1 Model:  2002 Capacity:  1\n",
      "Car:  2\n",
      "Name:  Car name: 2 Serial:  31314 Color:  Car color: 2 Model:  2014 Capacity:  2\n",
      "Car:  3\n",
      "Name:  Car name: 3 Serial:  81834 Color:  Car color: 3 Model:  1999 Capacity:  3\n",
      "Car:  4\n",
      "Name:  Car name: 4 Serial:  76134 Color:  Car color: 4 Model:  2015 Capacity:  4\n",
      "Car:  5\n",
      "Name:  Car name: 5 Serial:  65756 Color:  Car color: 5 Model:  1990 Capacity:  5\n"
     ]
    }
   ],
   "source": [
    "import random\n",
    "\n",
    "class car:\n",
    "    serial = 0\n",
    "    name = \"\"\n",
    "    color = \"\"\n",
    "    model = 0\n",
    "    capacity = 0\n",
    "    \n",
    "    def __init__(self,serial):\n",
    "        self.serial = serial\n",
    "    \n",
    "    def set_name(self,name):\n",
    "        self.name = name\n",
    "    \n",
    "    def set_color(self,color):\n",
    "        self.color = color\n",
    "    \n",
    "    def set_model(self,model):\n",
    "        self.model = model\n",
    "    \n",
    "    def set_capacity(self,capacity):\n",
    "        self.capacity = capacity\n",
    "    \n",
    "    def get_name(self):\n",
    "        return self.name\n",
    "    \n",
    "    def get_serial(self):\n",
    "        return self.serial\n",
    "    \n",
    "    def get_color(self):\n",
    "        return self.color\n",
    "    \n",
    "    def get_model(self):\n",
    "        return self.model\n",
    "    \n",
    "    def get_capacity(self):\n",
    "        return self.capacity\n",
    "\n",
    "cars = []\n",
    "\n",
    "for i in range(5):\n",
    "    cars.append(car(random.randint(10000,99999)))\n",
    "    cars[i].set_name((\"Car name: \"+str(i+1)))\n",
    "    cars[i].set_color(\"Car color: \"+str(i+1))\n",
    "    cars[i].set_model(random.randint(1990,2020))\n",
    "    cars[i].set_capacity(i+1)\n",
    "\n",
    "i=1\n",
    "\n",
    "for eachcar in cars:\n",
    "    print(\"Car: \", i)\n",
    "    print(\"Name: \",eachcar.get_name(),\"Serial: \",eachcar.get_serial(),\"Color: \",eachcar.get_color(),\"Model: \",eachcar.get_model(),\"Capacity: \",eachcar.get_capacity())\n",
    "    i += 1"
   ]
  },
  {
   "cell_type": "code",
   "execution_count": null,
   "metadata": {},
   "outputs": [],
   "source": []
  }
 ],
 "metadata": {
  "kernelspec": {
   "display_name": "Python 3",
   "language": "python",
   "name": "python3"
  },
  "language_info": {
   "codemirror_mode": {
    "name": "ipython",
    "version": 3
   },
   "file_extension": ".py",
   "mimetype": "text/x-python",
   "name": "python",
   "nbconvert_exporter": "python",
   "pygments_lexer": "ipython3",
   "version": "3.7.4"
  }
 },
 "nbformat": 4,
 "nbformat_minor": 2
}
