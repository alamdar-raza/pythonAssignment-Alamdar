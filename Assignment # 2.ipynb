{
 "cells": [
  {
   "cell_type": "code",
   "execution_count": 1,
   "metadata": {},
   "outputs": [
    {
     "name": "stdout",
     "output_type": "stream",
     "text": [
      "Enter marks for subject 1: 80\n",
      "Enter marks for subject 2: 90\n",
      "Enter marks for subject 3: 80\n",
      "Enter marks for subject 4: 90\n",
      "Enter marks for subject 5: 95\n",
      "Enter maximum marks: 500\n",
      "Subject 1 Marks:  80.0 \n",
      "Subject 2 Marks:  90.0 \n",
      "Subject 3 Marks:  80.0 \n",
      "Subject 4 Marks:  90.0 \n",
      "Subject 5 Marks:  95.0\n",
      "Obtained Marks:  435.0 / 500.0\n",
      "Percentage:  87.0 %\n",
      "Grade:  A1\n"
     ]
    }
   ],
   "source": [
    "m1 = float(input(\"Enter marks for subject 1: \"))\n",
    "m2 = float(input(\"Enter marks for subject 2: \"))\n",
    "m3 = float(input(\"Enter marks for subject 3: \"))\n",
    "m4 = float(input(\"Enter marks for subject 4: \"))\n",
    "m5 = float(input(\"Enter marks for subject 5: \"))\n",
    "max_marks = float(input(\"Enter maximum marks: \"))\n",
    "obt_marks = m1 + m2 + m3 + m4 + m5\n",
    "percentage = obt_marks / max_marks * 100\n",
    "if(percentage >= 80 and percentage <= 100):\n",
    "    grade = \"A1\"\n",
    "elif(percentage >= 70 and percentage < 80):\n",
    "    grade = \"A\"\n",
    "elif(percentage >= 60 and percentage < 70):\n",
    "    grade = \"B\"\n",
    "elif(percentage >= 50 and percentage < 60):\n",
    "    grade = \"C\"\n",
    "elif(percentage >= 40 and percentage < 50):\n",
    "    grade = \"D\"\n",
    "else:\n",
    "    grade = \"F\"\n",
    "print(\"Subject 1 Marks: \",m1,\"\\nSubject 2 Marks: \",m2,\"\\nSubject 3 Marks: \",m3,\"\\nSubject 4 Marks: \",m4,\"\\nSubject 5 Marks: \",m5)\n",
    "print(\"Obtained Marks: \",obt_marks,\"/\",max_marks)\n",
    "print(\"Percentage: \",percentage,\"%\")\n",
    "print(\"Grade: \",grade)\n"
   ]
  },
  {
   "cell_type": "code",
   "execution_count": 3,
   "metadata": {},
   "outputs": [
    {
     "name": "stdout",
     "output_type": "stream",
     "text": [
      "Enter a number: 9\n",
      "9 is Odd\n"
     ]
    }
   ],
   "source": [
    "num = int(input(\"Enter a number: \"))\n",
    "if num % 2 == 0 :\n",
    "    print(num, \"is Even\")\n",
    "else:\n",
    "    print(num, \"is Odd\")"
   ]
  },
  {
   "cell_type": "code",
   "execution_count": 4,
   "metadata": {},
   "outputs": [
    {
     "name": "stdout",
     "output_type": "stream",
     "text": [
      "7\n"
     ]
    }
   ],
   "source": [
    "random_list = [\"abc\",\"xyz\",\"pqr\",123,45,False,True]\n",
    "print(len(random_list))"
   ]
  },
  {
   "cell_type": "code",
   "execution_count": 5,
   "metadata": {},
   "outputs": [
    {
     "name": "stdout",
     "output_type": "stream",
     "text": [
      "Sum of numeric elements in list:  168\n"
     ]
    }
   ],
   "source": [
    "random_list = [\"abc\",\"xyz\",\"pqr\",123,45,False,True]\n",
    "sum = random_list[3] +random_list[4]\n",
    "print(\"Sum of numeric elements in list: \", sum)"
   ]
  },
  {
   "cell_type": "code",
   "execution_count": 6,
   "metadata": {},
   "outputs": [
    {
     "name": "stdout",
     "output_type": "stream",
     "text": [
      "Maximum element:  12356\n"
     ]
    }
   ],
   "source": [
    "numeric_list = [56,89,54,21,332,55,4,8,999,0,12356,55,2,3,556,8]\n",
    "print(\"Maximum element: \", max(numeric_list))"
   ]
  },
  {
   "cell_type": "code",
   "execution_count": 8,
   "metadata": {},
   "outputs": [
    {
     "name": "stdout",
     "output_type": "stream",
     "text": [
      "All elements less than five in the list:  [1, 1, 2, 3, 5, 8, 13, 21, 34, 55, 89]  are:  [1, 1, 2, 3]\n"
     ]
    }
   ],
   "source": [
    "myList = [1, 1, 2, 3, 5, 8, 13, 21, 34, 55, 89]\n",
    "new_list = []\n",
    "for element in myList:\n",
    "    if element < 5:\n",
    "        new_list.append(element)\n",
    "print(\"All elements less than five in the list: \",myList,\" are: \",new_list)"
   ]
  },
  {
   "cell_type": "code",
   "execution_count": null,
   "metadata": {},
   "outputs": [],
   "source": []
  }
 ],
 "metadata": {
  "kernelspec": {
   "display_name": "Python 3",
   "language": "python",
   "name": "python3"
  },
  "language_info": {
   "codemirror_mode": {
    "name": "ipython",
    "version": 3
   },
   "file_extension": ".py",
   "mimetype": "text/x-python",
   "name": "python",
   "nbconvert_exporter": "python",
   "pygments_lexer": "ipython3",
   "version": "3.7.4"
  }
 },
 "nbformat": 4,
 "nbformat_minor": 2
}
