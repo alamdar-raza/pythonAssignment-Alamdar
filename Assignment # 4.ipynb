{
 "cells": [
  {
   "cell_type": "code",
   "execution_count": 4,
   "metadata": {},
   "outputs": [
    {
     "name": "stdout",
     "output_type": "stream",
     "text": [
      "List before update:  {'first name': 'Alamdar', 'last name': 'Raza', 'age': 26, 'city': 'Karachi'}\n",
      "List after update:  {'first name': 'Alamdar', 'last name': 'Raza', 'age': 26, 'city': 'Karachi', 'qualification': 'Graduate'}\n",
      "List after delete:  {'first name': 'Alamdar', 'last name': 'Raza', 'age': 26, 'city': 'Karachi'}\n"
     ]
    }
   ],
   "source": [
    "person = {\"first name\": \"Alamdar\", \"last name\": \"Raza\", \"age\":26, \"city\":\"Karachi\"}\n",
    "print(\"List before update: \", person)\n",
    "person[\"qualification\"] = \"Graduate\"\n",
    "print(\"List after update: \", person)\n",
    "del person[\"qualification\"]\n",
    "print(\"List after delete: \", person)"
   ]
  },
  {
   "cell_type": "code",
   "execution_count": 8,
   "metadata": {},
   "outputs": [
    {
     "name": "stdout",
     "output_type": "stream",
     "text": [
      "{'Karachi': {'country': 'Pakistan', 'population': 12345778, 'fact': 'some fact for Karachi'}, 'Mecca': {'country': 'Saudi Arabia', 'population': 2134585, 'fact': 'some fact for Mecca'}, 'Brisbane': {'country': 'Australia', 'population': 45646532, 'fact': 'some fact for Brisbane'}}\n"
     ]
    }
   ],
   "source": [
    "cities = {\n",
    "    \"Karachi\":{\n",
    "    \"country\": \"Pakistan\",\n",
    "    \"population\": 12345778,\n",
    "    \"fact\": \"some fact for Karachi\"\n",
    "},\n",
    "          \"Mecca\":{\n",
    "    \"country\": \"Saudi Arabia\",\n",
    "    \"population\": 2134585,\n",
    "    \"fact\": \"some fact for Mecca\"\n",
    "},\n",
    "    \"Brisbane\":{\n",
    "    \"country\": \"Australia\",\n",
    "    \"population\": 45646532,\n",
    "    \"fact\": \"some fact for Brisbane\"\n",
    "}}\n",
    "print(cities)"
   ]
  },
  {
   "cell_type": "code",
   "execution_count": 9,
   "metadata": {},
   "outputs": [
    {
     "name": "stdout",
     "output_type": "stream",
     "text": [
      "Enter age (-1 to exit):5\n",
      "The movie ticket costs: $ 10\n",
      "Enter age (-1 to exit):6\n",
      "The movie ticket costs: $ 10\n",
      "Enter age (-1 to exit):15\n",
      "The movie ticket costs: $ 15\n",
      "Enter age (-1 to exit):0\n",
      "The movie ticket costs: $ 0\n",
      "Enter age (-1 to exit):-1\n",
      "Exit\n"
     ]
    }
   ],
   "source": [
    "while True:\n",
    "    age = int(input(\"Enter age (-1 to exit):\"))\n",
    "    if age == -1:\n",
    "        print(\"Exit\")\n",
    "        break;\n",
    "    elif age <= 3:\n",
    "        ticket = 0\n",
    "    elif age > 3 and age <= 12:\n",
    "        ticket = 10\n",
    "    else:\n",
    "        ticket = 15\n",
    "    print(\"The movie ticket costs: $\",ticket)"
   ]
  },
  {
   "cell_type": "code",
   "execution_count": 11,
   "metadata": {},
   "outputs": [
    {
     "name": "stdout",
     "output_type": "stream",
     "text": [
      "Enter title of bookStar Wars\n",
      "One of my favorite books is: Star Wars\n"
     ]
    }
   ],
   "source": [
    "def favorite_book(title):\n",
    "    print(\"One of my favorite books is: \" + title)\n",
    "    \n",
    "title = input(\"Enter title of book\")\n",
    "favorite_book(title)"
   ]
  },
  {
   "cell_type": "code",
   "execution_count": 20,
   "metadata": {},
   "outputs": [
    {
     "name": "stdout",
     "output_type": "stream",
     "text": [
      "Enter a number: 25\n",
      "The entered number is greater than the random number\n",
      "Enter a number: 15\n",
      "The entered number is less than the random number\n",
      "Enter a number: 18\n",
      "Game Over! You Win! The number is:  18\n"
     ]
    }
   ],
   "source": [
    "from random import randint\n",
    "\n",
    "rand_num = randint(1,30)\n",
    "check = False\n",
    "for i in range(3):\n",
    "    num = int(input(\"Enter a number: \"))\n",
    "    if num == rand_num :\n",
    "        check = True\n",
    "        break\n",
    "    elif rand_num < num :\n",
    "        print(\"The entered number is greater than the random number\")\n",
    "    elif rand_num > num :\n",
    "        print(\"The entered number is less than the random number\")\n",
    "if(check == True):\n",
    "    print(\"Game Over! You Win! The number is: \", rand_num)\n",
    "else:\n",
    "    print(\"Game Over! You Lose! The number is: \", rand_num)"
   ]
  },
  {
   "cell_type": "code",
   "execution_count": null,
   "metadata": {},
   "outputs": [],
   "source": []
  }
 ],
 "metadata": {
  "kernelspec": {
   "display_name": "Python 3",
   "language": "python",
   "name": "python3"
  },
  "language_info": {
   "codemirror_mode": {
    "name": "ipython",
    "version": 3
   },
   "file_extension": ".py",
   "mimetype": "text/x-python",
   "name": "python",
   "nbconvert_exporter": "python",
   "pygments_lexer": "ipython3",
   "version": "3.7.4"
  }
 },
 "nbformat": 4,
 "nbformat_minor": 2
}
